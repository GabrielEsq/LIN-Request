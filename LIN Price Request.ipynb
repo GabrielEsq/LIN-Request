{
 "cells": [
  {
   "attachments": {
    "powered%20by%20Refinitv.jpg": {
     "image/jpeg": "[encoded data removed]"
    }
   },
   "cell_type": "markdown",
   "metadata": {},
   "source": [
    "![powered%20by%20Refinitv.jpg](attachment:powered%20by%20Refinitv.jpg)\n",
    "\n",
    "\n",
    "<center>\n",
    "    <h3></h3>\n",
    "    <h1> BANK LOANS - PRICING REQUEST TASK</h1>\n",
    "</center>\n",
    "\n",
    "<center>\n",
    "    <b>Gabriel Esquivel, Research Analyst</b>\n",
    "</center>\n",
    "\n",
    "<center>\n",
    "    <i>July 2019</i>\n",
    "</center>\n"
   ]
  },
  {
   "cell_type": "markdown",
   "metadata": {},
   "source": [
    "## Contents \n",
    "\n",
    "* [1. Introduction](#1.Introduction)\n",
    "    * [1.1 Hiding toogles](#1.1.-Hiding-toogles)\n",
    "    * [1.2 Importing modules](#1.2-Importing-modules)    \n",
    "* [2. Extracting a LIN from outlook](#2.-Extracting-a-LIN-from-outlook)\n",
    "    * [2.1.Bringing the last email to jupyter notebook](#2.1.-Bringing-the-last-email-to-jupyter-notebook) \n",
    "* [3. Identify and extract the LIN from last email](#3.-Identify-and-extract-the-LIN-from-last-email)\n",
    "* [4. Making the SQL query and bring it as pandas data frame](#4.-Making-the-SQL-query-and-bring-it-as-pandas-data-frame)\n",
    "    * [4.1.Conecting to SQL Data Base, making the query in SQL & bringing the SQL query as pandas data frame](#6.1.-Conecting-to-SQL-Data-Base,-making-the-query-in-SQL-&-bringing-the-SQL-query-as-pandas-data-frame)  \n",
    "* [5. Choose a date](#5.-Choose-a-date)\n",
    "* [6. Create a draft response](#6.-Send-an-email-response)  \n",
    "    * [6.1.Identify the last email adress](#6.1.-Identify-the-last-email-adress)   \n",
    "    * [6.2. Create an email draft with a html table](#6.2.-Send-the-email-with-a-html-table)       \n",
    "\n",
    "     "
   ]
  },
  {
   "cell_type": "markdown",
   "metadata": {},
   "source": [
    "## 1. Introduction "
   ]
  },
  {
   "cell_type": "markdown",
   "metadata": {},
   "source": [
    "Actual project has been designed with purpose of helping bank loans team on daily basics request for pricing task. This tool is divided into several stages which will be explanied next. \n",
    "\n",
    "The first step, is to capture the last email request with LIN number inside, then the tool will recognize this LIN(S). Once the LIN(S) has been recognized, a query will be made in SQL Data base with a certain information base on this LIN(S). Python will bring out a historical data base, hence, the quote date should be introduce in order to get the desire information. Finally, an email will be sent with the request that was made in previous steps in html format \n",
    "\n",
    "The main modules that will be used are: Pandas, win32com.client, re, pyodbc, sqlalchemy, smtplib and ipywidgets. "
   ]
  },
  {
   "cell_type": "markdown",
   "metadata": {},
   "source": [
    "###### 1.1 Hiding toogles"
   ]
  },
  {
   "cell_type": "markdown",
   "metadata": {},
   "source": [
    "The main purpose of this is to hide python code using ```hide_toogle()``` function in case you do not prefer to see it or manipulate it"
   ]
  },
  {
   "cell_type": "code",
   "execution_count": null,
   "metadata": {},
   "outputs": [],
   "source": [
    "st = \"07/08/2019\"\n",
    "et = \"07/08/2019\"\n",
    "hour = '3PM' "
   ]
  },
  {
   "cell_type": "code",
   "execution_count": null,
   "metadata": {},
   "outputs": [],
   "source": [
    "import random\n",
    "from IPython.display import HTML\n",
    "def hide_toggle(for_next=False):\n",
    "    this_cell = \"\"\"$('div.cell.code_cell.rendered.selected')\"\"\"\n",
    "    next_cell = this_cell + '.next()'\n",
    "\n",
    "    toggle_text = 'Toggle show/hide'  # text shown on toggle link\n",
    "    target_cell = this_cell  # target cell to control with toggle\n",
    "    js_hide_current = ''  # bit of JS to permanently hide code in current cell (only when toggling next cell)\n",
    "\n",
    "    if for_next:\n",
    "        target_cell = next_cell\n",
    "        toggle_text += ' next cell'\n",
    "        js_hide_current = this_cell + '.find(\"div.input\").hide();'\n",
    "\n",
    "    js_f_name = 'code_toggle_{}'.format(str(random.randint(1,2**64)))\n",
    "\n",
    "    html = \"\"\"\n",
    "        <script>\n",
    "            function {f_name}() {{\n",
    "                {cell_selector}.find('div.input').toggle();\n",
    "            }}\n",
    "\n",
    "            {js_hide_current}\n",
    "        </script>\n",
    "\n",
    "        <a href=\"javascript:{f_name}()\">{toggle_text}</a>\n",
    "    \"\"\".format(\n",
    "        f_name=js_f_name,\n",
    "        cell_selector=target_cell,\n",
    "        js_hide_current=js_hide_current, \n",
    "        toggle_text=toggle_text\n",
    "    )\n",
    "\n",
    "    return HTML(html)\n",
    "hide_toggle()"
   ]
  },
  {
   "cell_type": "markdown",
   "metadata": {},
   "source": [
    "##### 1.2 Importing modules"
   ]
  },
  {
   "cell_type": "code",
   "execution_count": null,
   "metadata": {},
   "outputs": [],
   "source": [
    "import win32com.client\n",
    "import re\n",
    "import pyodbc\n",
    "import pandas as pd\n",
    "import sqlalchemy\n",
    "import ipywidgets as widgets\n",
    "from ipywidgets import interact, interact_manual\n",
    "import smtplib\n",
    "import datetime\n",
    "from IPython.display import display\n",
    "\n",
    "hide_toggle()"
   ]
  },
  {
   "cell_type": "markdown",
   "metadata": {},
   "source": [
    "## 2. Extracting a LIN (S) from outlook "
   ]
  },
  {
   "cell_type": "markdown",
   "metadata": {},
   "source": [
    "The following code extract the last email on the folder,then takes the LIN from the email"
   ]
  },
  {
   "cell_type": "markdown",
   "metadata": {},
   "source": [
    "##### 2.1 Bringing the last email to jupyter notebook:"
   ]
  },
  {
   "cell_type": "code",
   "execution_count": null,
   "metadata": {
    "scrolled": true
   },
   "outputs": [],
   "source": [
    "outlook = win32com.client.Dispatch(\"Outlook.Application\").GetNamespace(\"MAPI\")\n",
    "inbox = outlook.GetDefaultFolder(6).Folders.Item(\"TRPS LP\")\n",
    "messages = inbox.Items\n",
    "message = messages.GetLast()\n",
    "body_content = message.body\n",
    "#print(body_content)"
   ]
  },
  {
   "cell_type": "markdown",
   "metadata": {},
   "source": [
    "## 3. Identify and extract the LIN(S) from last email "
   ]
  },
  {
   "cell_type": "code",
   "execution_count": null,
   "metadata": {
    "scrolled": true
   },
   "outputs": [],
   "source": [
    "lins = re.findall(\"[A-Z0-9]+[0-9]+[A-Z0-9]+[A-Z0-9]+[A-Z0-9]+[A-Z0-9]+[A-Z0-9]+[A-Z0-9]+[0-9]+[A-Z]+[A-Z]+[0-9]+[A-Z0-9]\", body_content) \n",
    "str1 = ''.join(lins)\n",
    "lins"
   ]
  },
  {
   "cell_type": "markdown",
   "metadata": {},
   "source": [
    "## 4. Making an SQL query"
   ]
  },
  {
   "cell_type": "markdown",
   "metadata": {},
   "source": [
    "##### 4.1 Conecting to SQL Data Base, making the query in SQL & bringing the SQL query as pandas data frame"
   ]
  },
  {
   "cell_type": "code",
   "execution_count": null,
   "metadata": {
    "scrolled": true
   },
   "outputs": [],
   "source": [
    "conn = pyodbc.connect('DRIVER={ODBC Driver 17 for SQL Server};SERVER=10.91.141.195;DATABASE=Pricing_BankLoans;UID=pricing_admin;PWD=admin')\n",
    "lins = lins\n",
    "lins_in_query = \"','\".join(lins)\n",
    "print(lins_in_query)\n",
    "hour = hour \n",
    "hour_in_query = ''.join(hour)\n",
    "print(hour_in_query)\n",
    "\n",
    "query='''\n",
    "SELECT FIN AS 'LIN', Borrower, Facility, Avg_Of_Bid, Avg_Of_Ask, Mean_Of_Mean, Number_Of_Quotes, BROKERS, Date_Of_Quote\n",
    "FROM [Main].[Z6_Quote_Information]\n",
    "WHERE FIN IN ('{}') and File_Type in ('{}')\n",
    "ORDER BY Upload_Date DESC\n",
    "'''.format(lins_in_query, hour_in_query)\n",
    "\n",
    "\n",
    "print(query)\n",
    "df = pd.read_sql_query(query, conn)\n",
    "type(df['Date_Of_Quote'])\n",
    "df.sort_values('Date_Of_Quote')\n",
    "df.set_index(['Date_Of_Quote'])\n",
    "df['Date_Of_Quote']=pd.to_datetime(df.Date_Of_Quote)\n"
   ]
  },
  {
   "cell_type": "markdown",
   "metadata": {},
   "source": [
    "## 5. Choose a date  "
   ]
  },
  {
   "cell_type": "markdown",
   "metadata": {},
   "source": [
    "It is important to mention that date should the date that has been requested on the email"
   ]
  },
  {
   "cell_type": "code",
   "execution_count": null,
   "metadata": {
    "scrolled": true
   },
   "outputs": [],
   "source": [
    "filtered_date = None\n",
    "\n",
    "def print_datesIt(st, et):\n",
    "    global filtered_date\n",
    "    st=pd.Timestamp(st)\n",
    "    et=pd.Timestamp(et)\n",
    "    df['Date_Of_Quote']=pd.to_datetime(df.Date_Of_Quote)\n",
    "    stat_df = (df['Date_Of_Quote'] >= st) & (df['Date_Of_Quote'] <= et)\n",
    "    df_2 = df.loc[stat_df, :]\n",
    "    filtered_date = df_2\n",
    "    return df_2\n",
    "\n",
    "_ = interact(print_datesIt,\n",
    "             st=widgets.DatePicker(value=pd.to_datetime(st)),\n",
    "             et=widgets.DatePicker(value=pd.to_datetime(et)))\n"
   ]
  },
  {
   "cell_type": "markdown",
   "metadata": {},
   "source": [
    "## 6. Create a draft response"
   ]
  },
  {
   "cell_type": "markdown",
   "metadata": {},
   "source": [
    "##### 6.1. Identify the last email adress "
   ]
  },
  {
   "cell_type": "code",
   "execution_count": null,
   "metadata": {
    "scrolled": true
   },
   "outputs": [],
   "source": [
    "from win32com.client import Dispatch\n",
    "\n",
    "def getEmailAddress():\n",
    "    outlook = Dispatch(\"Outlook.Application\").GetNamespace(\"MAPI\")\n",
    "    inbox = outlook.GetDefaultFolder(\"6\").Folders.Item(\"TRPS LP\")\n",
    "    last = inbox.Items \n",
    "    folders = last.GetLast()\n",
    "\n",
    "    if folders.SenderEmailType=='EX':\n",
    "        return folders.Sender.GetExchangeUser().PrimarySmtpAddress\n",
    "    else:\n",
    "        return folders.SenderEmailAddress\n",
    "\n",
    "getEmailAddress()"
   ]
  },
  {
   "cell_type": "markdown",
   "metadata": {},
   "source": [
    "##### 6.2. Create an email draft with a data frame table"
   ]
  },
  {
   "cell_type": "code",
   "execution_count": null,
   "metadata": {},
   "outputs": [],
   "source": [
    "import win32com.client\n",
    "import pandas as pd\n",
    "\n",
    "#filtered_date = pd.read_csv('sample.csv') # Sample data\n",
    "\n",
    "outlook = win32com.client.Dispatch(\"Outlook.Application\").GetNamespace(\"MAPI\")\n",
    "inbox = outlook.GetDefaultFolder(6).Folders.Item(\"TRPS LP\") \n",
    "messages = inbox.Items\n",
    "\n",
    "count = 0\n",
    "msg = messages.GetLast() # Gets the most recent email\n",
    "while count < 1: # Limit to last two emails\n",
    "    reply = msg.ReplyAll()\n",
    "    reply.HTMLBody = 'Hello,<br><br><br>Please find attached your request<br><br><br>' + filtered_date.to_html(index=False) +'<br>Thank you<br><br><hr><br>' + msg.HTMLbody\n",
    "    reply.Save() # Save to draft\n",
    "    count += 1\n",
    "    msg = messages.GetPrevious() # Get the next most recent email and redo the loop\n"
   ]
  }
 ],
 "metadata": {
  "kernelspec": {
   "display_name": "Python 3",
   "language": "python",
   "name": "python3"
  },
  "language_info": {
   "codemirror_mode": {
    "name": "ipython",
    "version": 3
   },
   "file_extension": ".py",
   "mimetype": "text/x-python",
   "name": "python",
   "nbconvert_exporter": "python",
   "pygments_lexer": "ipython3",
   "version": "3.8.5"
  }
 },
 "nbformat": 4,
 "nbformat_minor": 2
}
